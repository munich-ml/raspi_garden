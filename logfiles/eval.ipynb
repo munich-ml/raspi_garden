{
 "cells": [
  {
   "cell_type": "code",
   "execution_count": 17,
   "metadata": {},
   "outputs": [],
   "source": [
    "import os\n",
    "import numpy as np\n",
    "import datetime as dt\n",
    "import pandas as pd\n",
    "import matplotlib.pyplot as plt"
   ]
  },
  {
   "cell_type": "code",
   "execution_count": 18,
   "metadata": {},
   "outputs": [],
   "source": [
    "%matplotlib inline"
   ]
  },
  {
   "cell_type": "code",
   "execution_count": 19,
   "metadata": {},
   "outputs": [
    {
     "name": "stdout",
     "output_type": "stream",
     "text": [
      "parsing raspi_garden_2019-05.log\n",
      "parsing raspi_garden_2019-07.log\n",
      "parsing raspi_garden_2019-08.log\n",
      "parsing raspi_garden_2020-04.log\n",
      "parsing raspi_garden_2020-06.log\n",
      "parsing raspi_garden_2020-08.log\n",
      "parsing raspi_garden_2021-10.log\n",
      "parsing raspi_garden_2022-03.log\n",
      "parsing raspi_garden_2022-04.log\n",
      "parsing raspi_garden_2022-05.log\n"
     ]
    }
   ],
   "source": [
    "sen_raw = []\n",
    "no_mow_raw = {\"datetime\": [], \"text\": []}\n",
    "rain_raw = {\"datetime\": [], \"text\": []}\n",
    "randy_raw = {\"datetime\": [], \"cat\": [], \"on\": []}\n",
    "\n",
    "for fn in os.listdir():\n",
    "    if not fn.endswith(\".log\"):\n",
    "        continue\n",
    "    \n",
    "    print(\"parsing\", fn)\n",
    "    with open(fn, \"r\") as f:\n",
    "        lines = f.readlines()\n",
    "            \n",
    "    state = \"searching\"\n",
    "    for lineno, line in enumerate(lines):\n",
    "        try:\n",
    "            if state == \"searching\":\n",
    "                sensor_sample = []\n",
    "                if \"[INFO] JKey.LOCAL_SENSOR\" in line:\n",
    "                    sensor_sample.append(dt.datetime.strptime(line[:19], \"%Y-%m-%d %H:%M:%S\"))\n",
    "                    state = \"sensor_1\"\n",
    "                elif \"No mowing\" in line:\n",
    "                    no_mow_raw[\"datetime\"].append(dt.datetime.strptime(line[:19], \"%Y-%m-%d %H:%M:%S\"))\n",
    "                    no_mow_raw[\"text\"].append(line.split(\"]\")[1].strip())\n",
    "                elif \"raining\" in line:\n",
    "                    rain_raw[\"datetime\"].append(dt.datetime.strptime(line[:19], \"%Y-%m-%d %H:%M:%S\"))\n",
    "                    rain_raw[\"text\"].append(line.split(\"]\")[1].strip())\n",
    "                elif \"[INFO] JKey.SWITCH_RANDY\" in line:\n",
    "                    randy_raw[\"datetime\"].append(dt.datetime.strptime(line[:19], \"%Y-%m-%d %H:%M:%S\"))\n",
    "                    randy_raw[\"cat\"].append(line.split(\"'\")[1])\n",
    "                    randy_raw[\"on\"].append(1 if \"True\" in line else 0)\n",
    "            elif state == \"sensor_1\":\n",
    "                sensor_sample.append(float(line[7:11]))  # T_CPU\n",
    "                state = \"sensor_2\"\n",
    "            elif state == \"sensor_2\":\n",
    "                _, temp, hum = line.split(\"=\")\n",
    "                sensor_sample.append(float(temp[:4]))  # T_int\n",
    "                sensor_sample.append(float(hum[:4])) # H_int\n",
    "                # plausibility check\n",
    "                hum = float(hum[:4])\n",
    "                if hum > 100:\n",
    "                    raise ValueError(\"humidity={}\".format(hum))\n",
    "                state = \"sensor_3\"\n",
    "            elif state == \"sensor_3\":\n",
    "                _, temp, hum = line.split(\"=\")\n",
    "                sensor_sample.append(float(temp[:4]))  # T_ext\n",
    "                sensor_sample.append(float(hum[:4])) # H_ext\n",
    "                # plausibility check\n",
    "                hum = float(hum[:4])\n",
    "                if hum > 100:\n",
    "                    raise ValueError(\"humidity={}\".format(hum))\n",
    "                sen_raw.append(sensor_sample)\n",
    "                state = \"searching\"\n",
    "        except Exception as e:\n",
    "            print(e)\n",
    "            print(\"\\tfilename\", fn, \"lineno\", lineno)\n",
    "            print(\"\\tline\", line)\n",
    "            state = \"searching\"\n",
    "            \n",
    "            "
   ]
  },
  {
   "cell_type": "markdown",
   "metadata": {},
   "source": [
    "# Eval sprinkler rain_raws"
   ]
  },
  {
   "cell_type": "code",
   "execution_count": 20,
   "metadata": {},
   "outputs": [
    {
     "data": {
      "text/html": [
       "<div>\n",
       "<style scoped>\n",
       "    .dataframe tbody tr th:only-of-type {\n",
       "        vertical-align: middle;\n",
       "    }\n",
       "\n",
       "    .dataframe tbody tr th {\n",
       "        vertical-align: top;\n",
       "    }\n",
       "\n",
       "    .dataframe thead th {\n",
       "        text-align: right;\n",
       "    }\n",
       "</style>\n",
       "<table border=\"1\" class=\"dataframe\">\n",
       "  <thead>\n",
       "    <tr style=\"text-align: right;\">\n",
       "      <th></th>\n",
       "      <th>text</th>\n",
       "    </tr>\n",
       "    <tr>\n",
       "      <th>datetime</th>\n",
       "      <th></th>\n",
       "    </tr>\n",
       "  </thead>\n",
       "  <tbody>\n",
       "    <tr>\n",
       "      <th>2021-06-14 21:21:54</th>\n",
       "      <td>manual raining initiated</td>\n",
       "    </tr>\n",
       "    <tr>\n",
       "      <th>2021-06-17 21:36:14</th>\n",
       "      <td>manual raining initiated</td>\n",
       "    </tr>\n",
       "    <tr>\n",
       "      <th>2021-06-21 19:10:38</th>\n",
       "      <td>manual raining initiated</td>\n",
       "    </tr>\n",
       "    <tr>\n",
       "      <th>2022-03-12 15:45:37</th>\n",
       "      <td>manual raining initiated</td>\n",
       "    </tr>\n",
       "    <tr>\n",
       "      <th>2022-05-12 16:43:20</th>\n",
       "      <td>manual raining initiated</td>\n",
       "    </tr>\n",
       "  </tbody>\n",
       "</table>\n",
       "</div>"
      ],
      "text/plain": [
       "                                         text\n",
       "datetime                                     \n",
       "2021-06-14 21:21:54  manual raining initiated\n",
       "2021-06-17 21:36:14  manual raining initiated\n",
       "2021-06-21 19:10:38  manual raining initiated\n",
       "2022-03-12 15:45:37  manual raining initiated\n",
       "2022-05-12 16:43:20  manual raining initiated"
      ]
     },
     "execution_count": 20,
     "metadata": {},
     "output_type": "execute_result"
    }
   ],
   "source": [
    "rain = pd.DataFrame.from_records(rain_raw, columns=rain_raw.keys(), index=\"datetime\")\n",
    "rain.tail()"
   ]
  },
  {
   "cell_type": "markdown",
   "metadata": {},
   "source": [
    "# Eval no mowings"
   ]
  },
  {
   "cell_type": "code",
   "execution_count": 21,
   "metadata": {},
   "outputs": [
    {
     "data": {
      "text/html": [
       "<div>\n",
       "<style scoped>\n",
       "    .dataframe tbody tr th:only-of-type {\n",
       "        vertical-align: middle;\n",
       "    }\n",
       "\n",
       "    .dataframe tbody tr th {\n",
       "        vertical-align: top;\n",
       "    }\n",
       "\n",
       "    .dataframe thead th {\n",
       "        text-align: right;\n",
       "    }\n",
       "</style>\n",
       "<table border=\"1\" class=\"dataframe\">\n",
       "  <thead>\n",
       "    <tr style=\"text-align: right;\">\n",
       "      <th></th>\n",
       "      <th>text</th>\n",
       "    </tr>\n",
       "    <tr>\n",
       "      <th>datetime</th>\n",
       "      <th></th>\n",
       "    </tr>\n",
       "  </thead>\n",
       "  <tbody>\n",
       "    <tr>\n",
       "      <th>2019-05-21 08:00:00</th>\n",
       "      <td>No mowing because weatherForecast is None!</td>\n",
       "    </tr>\n",
       "    <tr>\n",
       "      <th>2019-05-22 08:00:00</th>\n",
       "      <td>No mowing because of rain: 0.19</td>\n",
       "    </tr>\n",
       "    <tr>\n",
       "      <th>2019-05-23 08:00:00</th>\n",
       "      <td>No mowing because weatherForecast is None!</td>\n",
       "    </tr>\n",
       "    <tr>\n",
       "      <th>2019-05-25 09:00:00</th>\n",
       "      <td>No mowing because of rain: 0.66</td>\n",
       "    </tr>\n",
       "    <tr>\n",
       "      <th>2019-05-27 09:00:00</th>\n",
       "      <td>No mowing because of rain: 0.10</td>\n",
       "    </tr>\n",
       "    <tr>\n",
       "      <th>...</th>\n",
       "      <td>...</td>\n",
       "    </tr>\n",
       "    <tr>\n",
       "      <th>2022-04-26 09:00:00</th>\n",
       "      <td>No mowing because of rain: 0.26</td>\n",
       "    </tr>\n",
       "    <tr>\n",
       "      <th>2022-05-06 09:00:00</th>\n",
       "      <td>No mowing because of rain: 0.31</td>\n",
       "    </tr>\n",
       "    <tr>\n",
       "      <th>2022-05-07 09:00:00</th>\n",
       "      <td>No mowing because of rain: 0.16</td>\n",
       "    </tr>\n",
       "    <tr>\n",
       "      <th>2022-05-13 09:00:00</th>\n",
       "      <td>No mowing because of rain: 0.40</td>\n",
       "    </tr>\n",
       "    <tr>\n",
       "      <th>2022-05-16 09:00:00</th>\n",
       "      <td>No mowing because of rain: 0.35</td>\n",
       "    </tr>\n",
       "  </tbody>\n",
       "</table>\n",
       "<p>141 rows × 1 columns</p>\n",
       "</div>"
      ],
      "text/plain": [
       "                                                           text\n",
       "datetime                                                       \n",
       "2019-05-21 08:00:00  No mowing because weatherForecast is None!\n",
       "2019-05-22 08:00:00             No mowing because of rain: 0.19\n",
       "2019-05-23 08:00:00  No mowing because weatherForecast is None!\n",
       "2019-05-25 09:00:00             No mowing because of rain: 0.66\n",
       "2019-05-27 09:00:00             No mowing because of rain: 0.10\n",
       "...                                                         ...\n",
       "2022-04-26 09:00:00             No mowing because of rain: 0.26\n",
       "2022-05-06 09:00:00             No mowing because of rain: 0.31\n",
       "2022-05-07 09:00:00             No mowing because of rain: 0.16\n",
       "2022-05-13 09:00:00             No mowing because of rain: 0.40\n",
       "2022-05-16 09:00:00             No mowing because of rain: 0.35\n",
       "\n",
       "[141 rows x 1 columns]"
      ]
     },
     "execution_count": 21,
     "metadata": {},
     "output_type": "execute_result"
    }
   ],
   "source": [
    "no_mow = pd.DataFrame.from_records(no_mow_raw, index=\"datetime\")\n",
    "no_mow"
   ]
  },
  {
   "cell_type": "code",
   "execution_count": 22,
   "metadata": {},
   "outputs": [
    {
     "data": {
      "text/plain": [
       "No mowing because of rain: 0.10    6\n",
       "No mowing because of rain: 0.31    6\n",
       "No mowing because of rain: 0.19    6\n",
       "No mowing because of rain: 0.17    5\n",
       "No mowing because of rain: 0.41    5\n",
       "                                  ..\n",
       "No mowing because of rain: 0.43    1\n",
       "No mowing because of rain: 0.28    1\n",
       "No mowing because of rain: 0.95    1\n",
       "No mowing because of rain: 0.55    1\n",
       "No mowing because of rain: 1.04    1\n",
       "Name: text, Length: 63, dtype: int64"
      ]
     },
     "execution_count": 22,
     "metadata": {},
     "output_type": "execute_result"
    }
   ],
   "source": [
    "no_mow.text.value_counts()"
   ]
  },
  {
   "cell_type": "markdown",
   "metadata": {},
   "source": [
    "# Eval switch randy"
   ]
  },
  {
   "cell_type": "code",
   "execution_count": 23,
   "metadata": {},
   "outputs": [
    {
     "data": {
      "text/html": [
       "<div>\n",
       "<style scoped>\n",
       "    .dataframe tbody tr th:only-of-type {\n",
       "        vertical-align: middle;\n",
       "    }\n",
       "\n",
       "    .dataframe tbody tr th {\n",
       "        vertical-align: top;\n",
       "    }\n",
       "\n",
       "    .dataframe thead th {\n",
       "        text-align: right;\n",
       "    }\n",
       "</style>\n",
       "<table border=\"1\" class=\"dataframe\">\n",
       "  <thead>\n",
       "    <tr style=\"text-align: right;\">\n",
       "      <th></th>\n",
       "      <th>cat</th>\n",
       "      <th>on</th>\n",
       "    </tr>\n",
       "    <tr>\n",
       "      <th>datetime</th>\n",
       "      <th></th>\n",
       "      <th></th>\n",
       "    </tr>\n",
       "  </thead>\n",
       "  <tbody>\n",
       "    <tr>\n",
       "      <th>2022-05-14 18:00:00</th>\n",
       "      <td>mow</td>\n",
       "      <td>0</td>\n",
       "    </tr>\n",
       "    <tr>\n",
       "      <th>2022-05-15 18:00:00</th>\n",
       "      <td>mow</td>\n",
       "      <td>0</td>\n",
       "    </tr>\n",
       "    <tr>\n",
       "      <th>2022-05-16 18:00:00</th>\n",
       "      <td>mow</td>\n",
       "      <td>0</td>\n",
       "    </tr>\n",
       "    <tr>\n",
       "      <th>2022-05-17 09:00:00</th>\n",
       "      <td>mow</td>\n",
       "      <td>1</td>\n",
       "    </tr>\n",
       "    <tr>\n",
       "      <th>2022-05-17 18:00:00</th>\n",
       "      <td>mow</td>\n",
       "      <td>0</td>\n",
       "    </tr>\n",
       "  </tbody>\n",
       "</table>\n",
       "</div>"
      ],
      "text/plain": [
       "                     cat  on\n",
       "datetime                    \n",
       "2022-05-14 18:00:00  mow   0\n",
       "2022-05-15 18:00:00  mow   0\n",
       "2022-05-16 18:00:00  mow   0\n",
       "2022-05-17 09:00:00  mow   1\n",
       "2022-05-17 18:00:00  mow   0"
      ]
     },
     "execution_count": 23,
     "metadata": {},
     "output_type": "execute_result"
    }
   ],
   "source": [
    "randy = pd.DataFrame.from_records(randy_raw, columns=randy_raw.keys(), index=\"datetime\")\n",
    "randy.tail()"
   ]
  },
  {
   "cell_type": "code",
   "execution_count": 24,
   "metadata": {},
   "outputs": [
    {
     "data": {
      "text/plain": [
       "mow    935\n",
       "Name: cat, dtype: int64"
      ]
     },
     "execution_count": 24,
     "metadata": {},
     "output_type": "execute_result"
    }
   ],
   "source": [
    "randy.cat.value_counts()"
   ]
  },
  {
   "cell_type": "code",
   "execution_count": 25,
   "metadata": {},
   "outputs": [],
   "source": [
    "%matplotlib qt"
   ]
  },
  {
   "cell_type": "code",
   "execution_count": 26,
   "metadata": {},
   "outputs": [],
   "source": [
    "plt.figure(figsize=(14, 2))\n",
    "plt.step(randy.index, randy[\"on\"], label=\"switch randy\")\n",
    "plt.plot(no_mow.index, np.ones_like(list(no_mow.index))*0.5, \"v\", label=\"OWM no mow\")\n",
    "plt.legend();"
   ]
  },
  {
   "cell_type": "markdown",
   "metadata": {},
   "source": [
    "# Eval sensors"
   ]
  },
  {
   "cell_type": "code",
   "execution_count": 27,
   "metadata": {},
   "outputs": [
    {
     "data": {
      "text/html": [
       "<div>\n",
       "<style scoped>\n",
       "    .dataframe tbody tr th:only-of-type {\n",
       "        vertical-align: middle;\n",
       "    }\n",
       "\n",
       "    .dataframe tbody tr th {\n",
       "        vertical-align: top;\n",
       "    }\n",
       "\n",
       "    .dataframe thead th {\n",
       "        text-align: right;\n",
       "    }\n",
       "</style>\n",
       "<table border=\"1\" class=\"dataframe\">\n",
       "  <thead>\n",
       "    <tr style=\"text-align: right;\">\n",
       "      <th></th>\n",
       "      <th>T_CPU</th>\n",
       "      <th>T_int</th>\n",
       "      <th>H_int</th>\n",
       "      <th>T_ext</th>\n",
       "      <th>H_ext</th>\n",
       "    </tr>\n",
       "    <tr>\n",
       "      <th>datetime</th>\n",
       "      <th></th>\n",
       "      <th></th>\n",
       "      <th></th>\n",
       "      <th></th>\n",
       "      <th></th>\n",
       "    </tr>\n",
       "  </thead>\n",
       "  <tbody>\n",
       "    <tr>\n",
       "      <th>2022-05-17 16:40:31</th>\n",
       "      <td>69.8</td>\n",
       "      <td>47.0</td>\n",
       "      <td>21.4</td>\n",
       "      <td>33.3</td>\n",
       "      <td>20.2</td>\n",
       "    </tr>\n",
       "    <tr>\n",
       "      <th>2022-05-17 17:40:31</th>\n",
       "      <td>68.8</td>\n",
       "      <td>45.6</td>\n",
       "      <td>21.8</td>\n",
       "      <td>32.1</td>\n",
       "      <td>19.0</td>\n",
       "    </tr>\n",
       "    <tr>\n",
       "      <th>2022-05-17 18:40:33</th>\n",
       "      <td>61.2</td>\n",
       "      <td>45.0</td>\n",
       "      <td>22.1</td>\n",
       "      <td>26.8</td>\n",
       "      <td>25.2</td>\n",
       "    </tr>\n",
       "    <tr>\n",
       "      <th>2022-05-17 19:40:31</th>\n",
       "      <td>58.0</td>\n",
       "      <td>37.5</td>\n",
       "      <td>24.5</td>\n",
       "      <td>26.8</td>\n",
       "      <td>25.2</td>\n",
       "    </tr>\n",
       "    <tr>\n",
       "      <th>2022-05-17 20:40:31</th>\n",
       "      <td>54.8</td>\n",
       "      <td>34.2</td>\n",
       "      <td>25.5</td>\n",
       "      <td>24.6</td>\n",
       "      <td>29.0</td>\n",
       "    </tr>\n",
       "  </tbody>\n",
       "</table>\n",
       "</div>"
      ],
      "text/plain": [
       "                     T_CPU  T_int  H_int  T_ext  H_ext\n",
       "datetime                                              \n",
       "2022-05-17 16:40:31   69.8   47.0   21.4   33.3   20.2\n",
       "2022-05-17 17:40:31   68.8   45.6   21.8   32.1   19.0\n",
       "2022-05-17 18:40:33   61.2   45.0   22.1   26.8   25.2\n",
       "2022-05-17 19:40:31   58.0   37.5   24.5   26.8   25.2\n",
       "2022-05-17 20:40:31   54.8   34.2   25.5   24.6   29.0"
      ]
     },
     "execution_count": 27,
     "metadata": {},
     "output_type": "execute_result"
    }
   ],
   "source": [
    "columns=[\"datetime\", \"T_CPU\", \"T_int\", \"H_int\", \"T_ext\", \"H_ext\"]\n",
    "sen = pd.DataFrame.from_records(sen_raw, columns=columns, index=\"datetime\")\n",
    "sen.tail()"
   ]
  },
  {
   "cell_type": "code",
   "execution_count": 28,
   "metadata": {},
   "outputs": [],
   "source": [
    "sen[[\"T_ext\", \"T_int\"]].plot(style=\".\", grid=\"both\", figsize=(14, 4));"
   ]
  },
  {
   "cell_type": "code",
   "execution_count": 29,
   "metadata": {},
   "outputs": [],
   "source": [
    "sen[[\"H_ext\", \"H_int\"]].plot(style=\".\", grid=\"both\", figsize=(14, 4));"
   ]
  },
  {
   "cell_type": "code",
   "execution_count": null,
   "metadata": {},
   "outputs": [],
   "source": []
  }
 ],
 "metadata": {
  "interpreter": {
   "hash": "99a32b8e90907d15b68966f56ddf8976f60d6838c1489379362f65a518ade5ee"
  },
  "kernelspec": {
   "display_name": "Python 3.7.9 ('plotly_env')",
   "language": "python",
   "name": "python3"
  },
  "language_info": {
   "codemirror_mode": {
    "name": "ipython",
    "version": 3
   },
   "file_extension": ".py",
   "mimetype": "text/x-python",
   "name": "python",
   "nbconvert_exporter": "python",
   "pygments_lexer": "ipython3",
   "version": "3.7.9"
  },
  "orig_nbformat": 4
 },
 "nbformat": 4,
 "nbformat_minor": 2
}
